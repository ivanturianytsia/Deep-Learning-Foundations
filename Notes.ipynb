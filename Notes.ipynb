{
 "cells": [
  {
   "cell_type": "markdown",
   "metadata": {
    "deletable": true,
    "editable": true
   },
   "source": [
    "# Deep Learning week 1 notes"
   ]
  },
  {
   "cell_type": "markdown",
   "metadata": {
    "collapsed": true,
    "deletable": true,
    "editable": true
   },
   "source": [
    "### Books to read\n",
    "- [Deep Learning](http://www.deeplearningbook.org/)\n",
    "- [Neural Networks and Deep Learning](http://neuralnetworksanddeeplearning.com/)\n",
    "- [Grokking Deep Learning](https://www.manning.com/books/grokking-deep-learning)"
   ]
  },
  {
   "cell_type": "markdown",
   "metadata": {
    "deletable": true,
    "editable": true
   },
   "source": [
    "### Python lib tutorials\n",
    "- [Pandas](http://pandas.pydata.org/pandas-docs/stable/10min.html#min)\n",
    "- [SciKit-learn](http://scikit-learn.org/stable/tutorial/basic/tutorial.html)\n",
    "- [Pyplot](http://matplotlib.org/users/pyplot_tutorial.html)"
   ]
  },
  {
   "cell_type": "markdown",
   "metadata": {
    "deletable": true,
    "editable": true
   },
   "source": [
    "## Linear regression\n",
    "**Linear regression** is a method of finding best fitting values *m* and *b* for a line (*y = mx + b*), which passes through the points of a given array with a minimal mean error. Linear regression uses **gradient descent** to closesly approach the local minimum, by computing a partial derivative for each *m* and *b* along the way. As the line approaches the minimal error, derivatives decrease as well as iteration step:\n",
    "```\n",
    "new_b = b_current - (learningRate * b_gradient)\n",
    "new_m = m_current - (learningRate * m_gradient)\n",
    "```\n",
    "\n",
    "The learning rate and number of iterations is chosen manualy. Wrong learning rate, too big or too small, decreases the speed of reaching the vertex. If the learning rate is too small, low derivative will slow the descent down drastically, so the values may not reach the lower point at all. On the other hand, if the learning rate is too big, iterations will reach some level in the lower part quickly, by jumping from slope to slope in zig-zags, but they might not precisely reach the bottom of the curve in any reasonable time/number of iterations.\n",
    "\n",
    "[Code](https://github.com/llSourcell/linear_regression_live) from Siraj [live video](https://www.youtube.com/watch?v=uwwWVAgJBcM)."
   ]
  },
  {
   "cell_type": "markdown",
   "metadata": {
    "deletable": true,
    "editable": true
   },
   "source": [
    "## Neural networks\n",
    "\n",
    "**Neural network** - a network of neurons, which convert input data to output data. \n",
    "A **neuron** or **perceptrons** resemble a body, dendrites (inputs) and an axon (output). As signals enter the neuron through inputs, they are multiplied by **weights** - measure of how much each signal means to the output signal. Then, weighted signals are summed. The resulting signal is feeded through the **activation function**, usually a **sigmoid**, in order to normalize the output.\n",
    "```\n",
    "def sigmoid(x):\n",
    "    return 1 / (1 + np.exp(-x))\n",
    "\n",
    "output = sigmoid(dot(weights, inputs) + bias)\n",
    "```\n",
    "\n",
    "### Learning\n",
    "Learning of the neural network is done by adjusting the weights by gradient descent of the error - difference between the target output and the neural network output.\n",
    "``` \n",
    "def sigmoid_derivative(x):\n",
    "    return sigmoid(x) * (1 - sigmoid(x))\n",
    "    \n",
    "error = target - output\n",
    "delta_weights = learnrate * error * sigmoid_derivative(dot(weights, inputs)) * input\n",
    "weights =+ delta_weights \n",
    "```\n",
    "Starting weights are chosen randomly, due to this, weight can get into a local minima. One of the method to avoid this - [momentum](http://sebastianruder.com/optimizing-gradient-descent/index.html#momentum)."
   ]
  },
  {
   "cell_type": "markdown",
   "metadata": {
    "deletable": true,
    "editable": true
   },
   "source": [
    "### Backpropagation\n",
    "As the neural network will grow to have 1 or more **hidden layers**, learning will become impossible with only gradient descent. To calculate the error we need to know the desired output on the neuron, and we don't have that in hidden layers. Here comes **backpropagation** - extension of gradient descent method, that bases on chain rule, where we estimate the error of the hidden layer basing on the weights, that connect them to the output.\n",
    "```\n",
    "delta_error_hidden = dot(weights_hidden_output, delta_error_output) * sigmoid_derivative(dot(inputs, weights_input_hidden))\n",
    "```\n",
    "This rule is more general, thus, neural networks with any number of hidden layers can be easily trained:\n",
    "```\n",
    "delta_error_hidden1 = dot(weights_hidden1_hidden2, delta_error_hidden2) * sigmoid_derivative(hidden1_input)\n",
    "```\n",
    "It is important to save each step of forward run, to use intermediate values (e.g. `hidden1_input`) in the backpropagation procedure."
   ]
  },
  {
   "cell_type": "markdown",
   "metadata": {
    "deletable": true,
    "editable": true
   },
   "source": [
    "### TensorFlow\n",
    "Ran operations in tf.Session.\n",
    "Created a constant tensor with tf.constant().\n",
    "Used tf.placeholder() and feed_dict to get input.\n",
    "Applied the tf.add(), tf.subtract(), tf.multiply(), and tf.divide() functions using numeric data.\n",
    "Learned about casting between types with tf.cast()"
   ]
  },
  {
   "cell_type": "markdown",
   "metadata": {
    "deletable": true,
    "editable": true
   },
   "source": [
    "### Convolutional networks\n",
    "**Convolutional networks** or CovNets - neural networks that share their parameters across space.\n",
    "- http://ufldl.stanford.edu/tutorial/supervised/ConvolutionalNeuralNetwork/\n",
    "- https://adeshpande3.github.io/adeshpande3.github.io/A-Beginner's-Guide-To-Understanding-Convolutional-Neural-Networks/\n",
    "- http://cs231n.github.io/convolutional-networks/\n",
    "- http://deeplearning.net/tutorial/lenet.html\n",
    "- https://ujjwalkarn.me/2016/08/11/intuitive-explanation-convnets/\n",
    "- http://neuralnetworksanddeeplearning.com/chap6.html\n",
    "- http://xrds.acm.org/blog/2016/06/convolutional-neural-networks-cnns-illustrated-explanation/\n",
    "- http://andrew.gibiansky.com/blog/machine-learning/convolutional-neural-networks/\n",
    "- https://medium.com/@ageitgey/machine-learning-is-fun-part-3-deep-learning-and-convolutional-neural-networks-f40359318721#.l6i57z8f2\n"
   ]
  },
  {
   "cell_type": "markdown",
   "metadata": {
    "deletable": true,
    "editable": true
   },
   "source": [
    "## Supporting materials\n",
    "### Gradient \n",
    "- [Khan academy's Gradient and directional derivatives course](https://www.khanacademy.org/math/multivariable-calculus/multivariable-derivatives/gradient-and-directional-derivatives/v/gradient)\n",
    "- [Khan academy's Chain rule course](https://www.khanacademy.org/math/multivariable-calculus/multivariable-derivatives/gradient-and-directional-derivatives/v/gradient)\n",
    "- [An overview of gradient descent optimization algorithms](http://sebastianruder.com/optimizing-gradient-descent/index.html#momentum)\n",
    "\n",
    "### Matrices\n",
    "- [Khan academy's Matrices course](https://www.khanacademy.org/math/precalculus/precalc-matrices)\n",
    "- [Khan academy's Vectors course](https://www.khanacademy.org/math/linear-algebra/vectors-and-spaces/vectors/v/vector-introduction-linear-algebra)\n",
    "\n",
    "### Backpropagation\n",
    "- [Andrej Karpathy's Yes you should understand backprop](https://medium.com/@karpathy/yes-you-should-understand-backprop-e2f06eab496b#.hzcjgsrsr)\n",
    "- [Andrej Karpathy's Backpropagation](https://www.youtube.com/watch?v=59Hbtz7XgjM)\n",
    "\n",
    "### History of AI\n",
    "- [AI, Deep Learning, and Machine Learning: A Primer](https://vimeo.com/170189199)\n",
    "\n",
    "### RNN and LSTM Networks\n",
    "- [Understanding LSTM Networks](http://colah.github.io/posts/2015-08-Understanding-LSTMs/)\n",
    "- [CS231n Lecture 10 - Recurrent Neural Networks, Image Captioning, LSTM](https://www.youtube.com/watch?v=iX5V1WpxxkY)\n",
    "- [Deep Learning Book](http://www.deeplearningbook.org/contents/rnn.html)\n",
    "\n",
    "### Math Cheatsheets\n",
    "- [Linear Algebra cheatsheet](http://www.souravsengupta.com/cds2016/lectures/Savov_Notes.pdf)\n",
    "- [Calculus cheatsheet](http://tutorial.math.lamar.edu/pdf/Calculus_Cheat_Sheet_All.pdf)\n",
    "- [Statistics cheatsheet](http://web.mit.edu/~csvoss/Public/usabo/stats_handout.pdf)\n",
    "\n",
    "### Convolutional networks\n",
    "- [Andrej Karpathy's Convolutional Neural Networks](http://cs231n.github.io/)"
   ]
  },
  {
   "cell_type": "markdown",
   "metadata": {
    "collapsed": true,
    "deletable": true,
    "editable": true
   },
   "source": [
    "### Sequence to Sequence RNNs\n",
    "- [DEEP LEARNING FOR CHATBOTS, PART 1 – INTRODUCTION](http://www.wildml.com/2016/04/deep-learning-for-chatbots-part-1-introduction/)\n",
    "- [Sequence to Sequence Deep Learning (Quoc Le, Google)](https://www.youtube.com/watch?v=G5RY_SUJih4)"
   ]
  },
  {
   "cell_type": "markdown",
   "metadata": {
    "collapsed": true,
    "deletable": true,
    "editable": true
   },
   "source": [
    "### Reinforcement Learning\n",
    "- [Simple Reinforcement Learning with Tensorflow Part 0: Q-Learning with Tables and Neural Networks](https://medium.com/emergent-future/simple-reinforcement-learning-with-tensorflow-part-0-q-learning-with-tables-and-neural-networks-d195264329d0)\n",
    "- [Human-level control through deep reinforcement learning](http://www.davidqiu.com:8888/research/nature14236.pdf)\n",
    "- [An implementation of Deep Q-Network in TensorFlow](https://github.com/devsisters/DQN-tensorflow)\n",
    "- [Cart-Pole Balancing with Q-Learning](https://medium.com/@tuzzer/cart-pole-balancing-with-q-learning-b54c6068d947)"
   ]
  },
  {
   "cell_type": "code",
   "execution_count": null,
   "metadata": {
    "collapsed": true
   },
   "outputs": [],
   "source": []
  }
 ],
 "metadata": {
  "anaconda-cloud": {},
  "kernelspec": {
   "display_name": "Python 3",
   "language": "python",
   "name": "python3"
  },
  "language_info": {
   "codemirror_mode": {
    "name": "ipython",
    "version": 3
   },
   "file_extension": ".py",
   "mimetype": "text/x-python",
   "name": "python",
   "nbconvert_exporter": "python",
   "pygments_lexer": "ipython3",
   "version": "3.6.0"
  }
 },
 "nbformat": 4,
 "nbformat_minor": 1
}
